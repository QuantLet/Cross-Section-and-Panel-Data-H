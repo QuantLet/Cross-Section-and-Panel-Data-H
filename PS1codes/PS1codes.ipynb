{
 "cells": [
  {
   "cell_type": "code",
   "execution_count": 3,
   "metadata": {},
   "outputs": [
    {
     "name": "stdout",
     "output_type": "stream",
     "text": [
      "0.0853538287605942 0.16785843841516823 0.032382888900268365\n"
     ]
    },
    {
     "data": {
      "image/png": "[encoded data removed]",
      "text/plain": [
       "<Figure size 432x288 with 1 Axes>"
      ]
     },
     "metadata": {
      "needs_background": "light"
     },
     "output_type": "display_data"
    }
   ],
   "source": [
    "'''The code generates 1000 random numbers uniformly distributed between 0 and 1 and assigns them to the variable `x`. \n",
    "For constants `c = 0.5` and `e = 0.1`, the code calculates the expected value `E[|x-c|^2]` using the numpy mean function.\n",
    "It then computes `E[|x-c|^2>e]` and `E[|x-c|^2<e]` by filtering the squared differences based on whether they are greater than or less than `e`, respectively, and then taking their mean.\n",
    "\n",
    "A histogram of the squared differences `|x-c|^2` is plotted, with the expected values marked as dashed lines in different colors: \n",
    "blue for `E[|x-c|^2]`, red for `E[|x-c|^2>e]`, and green for `E[|x-c|^2<e]`. \n",
    "The regions where `|x-c|^2 > e` and `|x-c|^2 < e` are shaded in red and green, respectively. \n",
    "The plot is titled 'Histogram of |x-c|^2 with Expected Value' and labeled appropriately on the x and y axes. \n",
    "Finally, the plot is displayed.'''\n",
    "\n",
    "import matplotlib.pyplot as plt\n",
    "import numpy as np\n",
    "\n",
    "\n",
    "np.random.seed(42)\n",
    "\n",
    "\n",
    "x = np.random.rand(1000)  \n",
    "\n",
    "\n",
    "c = 0.5  \n",
    "e = 0.1 \n",
    "\n",
    "\n",
    "expected_value = np.mean((x - c)**2)\n",
    "\n",
    "\n",
    "expected_value_greater = np.mean([(i - c)**2 for i in x if (i - c)**2>e])\n",
    "\n",
    "\n",
    "expected_value_less =np.mean([(i - c)**2 for i in x if (i - c)**2<e])\n",
    "\n",
    "print(expected_value, expected_value_greater, expected_value_less)\n",
    "\n",
    "\n",
    "squared_diff = (x - c)**2\n",
    "\n",
    "\n",
    "plt.hist(squared_diff, bins=30, alpha=0.5, label='|x-c|^2 values')\n",
    "\n",
    "\n",
    "plt.axvspan(e, max(squared_diff), alpha=0.3, color='red', label='|x-c|^2 > e')\n",
    "\n",
    "\n",
    "plt.axvspan(min(squared_diff), e, alpha=0.3, color='green', label='|x-c|^2 < e')\n",
    "\n",
    "\n",
    "plt.axvline(expected_value, color='blue', linestyle='dashed', linewidth=2, label='E[|x-c|^2]')\n",
    "plt.axvline(expected_value_greater, color='red', linestyle='dashed', linewidth=2, label='E[|x-c|^2]')\n",
    "plt.axvline(expected_value_less, color='green', linestyle='dashed', linewidth=2, label='E[|x-c|^2]')\n",
    "\n",
    "\n",
    "\n",
    "\n",
    "plt.title('Histogram of |x-c|^2 with Expected Value')\n",
    "plt.xlabel('|x-c|^2')\n",
    "plt.ylabel('Frequency')\n",
    "\n",
    "plt.savefig(\"Condition.png\",transparent = True)\n",
    "plt.show()\n"
   ]
  },
  {
   "cell_type": "code",
   "execution_count": 8,
   "metadata": {},
   "outputs": [
    {
     "name": "stdout",
     "output_type": "stream",
     "text": [
      "The probability of winning if sticking with door 1 is 0.32753101240496196\n",
      "The probability of winning if switching to door 3 is 0.672468987595038\n"
     ]
    }
   ],
   "source": [
    "\n",
    "import numpy as np\n",
    "import pandas as pd\n",
    "\n",
    "stick_with_1 = 0\n",
    "switch_to_3 = 0\n",
    "\n",
    "max_iteration = 10000\n",
    "n = 0\n",
    "\n",
    "\n",
    "for i in range(max_iteration):\n",
    "    door_with_car = np.random.randint(1, 4)\n",
    "    if door_with_car == 1:\n",
    "        host = np.random.randint(2,4)\n",
    "        if host == 2:\n",
    "            n += 1\n",
    "            stick_with_1 += 1\n",
    "    if door_with_car == 3:\n",
    "        host = 2\n",
    "        switch_to_3 += 1\n",
    "        n += 1\n",
    "\n",
    "print(\"The probability of winning if sticking with door 1 is\", stick_with_1/n)\n",
    "print(\"The probability of winning if switching to door 3 is\", switch_to_3/n)\n"
   ]
  },
  {
   "cell_type": "code",
   "execution_count": 23,
   "metadata": {},
   "outputs": [
    {
     "data": {
      "image/png": "[encoded data removed]",
      "text/plain": [
       "<Figure size 432x288 with 1 Axes>"
      ]
     },
     "metadata": {
      "needs_background": "light"
     },
     "output_type": "display_data"
    }
   ],
   "source": [
    "import numpy as np\n",
    "import matplotlib.pyplot as plt\n",
    "\n",
    "# Set parameters\n",
    "mu = 0  # Mean of the distribution\n",
    "sigma = 1  # Standard deviation of the distribution\n",
    "max_samples = 10000  # Maximum number of samples\n",
    "\n",
    "# Initialize arrays to store sample means and sample sizes\n",
    "sample_means = []\n",
    "sample_sizes = range(1, max_samples + 1)\n",
    "\n",
    "# Calculate the sample mean for each sample size\n",
    "for n in sample_sizes:\n",
    "    samples = np.random.normal(mu, sigma, size=n)\n",
    "    sample_mean = np.mean(samples)\n",
    "    sample_means.append(sample_mean)\n",
    "\n",
    "# Plot the results\n",
    "plt.plot(sample_sizes, sample_means, color = 'blue',label=\"Sample Mean\")\n",
    "plt.axhline(y=mu, color='r', linestyle='--', label=\"Expected Value (μ)\")\n",
    "plt.xlabel(\"Number of Samples\")\n",
    "plt.ylabel(\"Sample Mean\")\n",
    "plt.title(\"Convergence of the Sample Mean to the Expected Value\")\n",
    "#plt.legend()\n",
    "plt.savefig(\"Simu_prob4.png\",transparent = True)\n",
    "plt.show()\n"
   ]
  },
  {
   "cell_type": "code",
   "execution_count": null,
   "metadata": {},
   "outputs": [],
   "source": []
  }
 ],
 "metadata": {
  "kernelspec": {
   "display_name": "base",
   "language": "python",
   "name": "python3"
  },
  "language_info": {
   "codemirror_mode": {
    "name": "ipython",
    "version": 3
   },
   "file_extension": ".py",
   "mimetype": "text/x-python",
   "name": "python",
   "nbconvert_exporter": "python",
   "pygments_lexer": "ipython3",
   "version": "3.8.5"
  }
 },
 "nbformat": 4,
 "nbformat_minor": 2
}
